{
 "cells": [
  {
   "cell_type": "markdown",
   "id": "73c436f0-3f0b-4212-a0a0-7ebda2f1627a",
   "metadata": {
    "tags": []
   },
   "source": [
    "## Expressões Númericas\n",
    "### Algumas operações devem ser priorizadas em relações a outras o que chamamos de ordem de precedência.\n",
    "\n",
    "Deve ser resolvido na seguinte ordem:\n",
    "> 1. *()* parênteses  \n",
    "> 2. ** potência ou **math.sqtr(_valor_)** raiz quadrada.  \n",
    "> 3. *\\** multiplicação ou **/** divisão.  \n",
    "> 4. *+* adição ou *-* subtração "
   ]
  },
  {
   "cell_type": "code",
   "execution_count": 2,
   "id": "9143a12c-c31c-482a-bade-f8db1ec5b9dc",
   "metadata": {},
   "outputs": [
    {
     "name": "stdout",
     "output_type": "stream",
     "text": [
      "True\n"
     ]
    }
   ],
   "source": [
    "print( 60 + (4 + ((8 - 12) - (5 + 3) - 7) + 2) == 47)"
   ]
  },
  {
   "cell_type": "code",
   "execution_count": null,
   "id": "f58fab84-f903-44aa-83ca-96574ad7f598",
   "metadata": {},
   "outputs": [],
   "source": []
  }
 ],
 "metadata": {
  "kernelspec": {
   "display_name": "Python 3",
   "language": "python",
   "name": "python3"
  },
  "language_info": {
   "codemirror_mode": {
    "name": "ipython",
    "version": 3
   },
   "file_extension": ".py",
   "mimetype": "text/x-python",
   "name": "python",
   "nbconvert_exporter": "python",
   "pygments_lexer": "ipython3",
   "version": "3.8.5"
  }
 },
 "nbformat": 4,
 "nbformat_minor": 5
}
