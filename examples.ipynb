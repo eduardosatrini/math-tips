{
 "cells": [
  {
   "cell_type": "markdown",
   "id": "c76b5cdf-12f7-4091-99b2-7fc3e94df224",
   "metadata": {},
   "source": [
    "### Estrutura de dados    \n",
    "> listas  \n",
    "> tuplas  \n",
    "> sets  \n",
    "> dicionários  \n"
   ]
  },
  {
   "cell_type": "markdown",
   "id": "a9882b67-70c2-4ec9-82f3-915906c1d8e3",
   "metadata": {},
   "source": [
    "#### Listas são um conjunto de valores mútaveis e que podem ser acessado pela index da variável."
   ]
  },
  {
   "cell_type": "code",
   "execution_count": 8,
   "id": "132e939e-b722-46a1-90c7-0e95b5f00eb3",
   "metadata": {},
   "outputs": [
    {
     "name": "stdout",
     "output_type": "stream",
     "text": [
      "Xbox Series\n",
      "['Nintendo Switch', 'PlayStation 5', 'Xbox Series']\n",
      "['Nintendo Switch', 'PlayStation 5', 'Xbox Series', 'Nintendinho']\n",
      "['Nintendo Switch', 'PlayStation 5', 'Mega Drive', 'Xbox Series']\n",
      "['Nintendo Switch', 'Mega Drive', 'Xbox Series']\n",
      "[]\n"
     ]
    }
   ],
   "source": [
    "consoles = [\"PlayStation 5\", \"Xbox Series\", \"Nintendo Switch\"]\n",
    "print(consoles[1])\n",
    "\n",
    "consoles.sort() # ordena a lista\n",
    "print(consoles)\n",
    "\n",
    "consoles.append(\"Nintendinho\") # adiciona um elemento na lista\n",
    "print(consoles)\n",
    "\n",
    "consoles.insert(2, \"Mega Drive\") # insere na posição 2\n",
    "\n",
    "consoles.pop() # remove o último elemento da lista\n",
    "print(consoles)\n",
    "\n",
    "consoles.remove(\"PlayStation 5\") # remove pelo valor\n",
    "print(consoles)\n",
    "\n",
    "consoles.clear() # limpa a lista por completo\n",
    "print(consoles)"
   ]
  },
  {
   "cell_type": "markdown",
   "id": "a9a597c5-119b-4e5a-9d9f-417a3f609f6b",
   "metadata": {},
   "source": [
    "#### Tuplas são um conjunto de valores imútaveis um pouco mais eficiente que as listas."
   ]
  },
  {
   "cell_type": "code",
   "execution_count": 16,
   "id": "dfcf9d42-a8a9-4bbe-a800-5f714b5cdd7c",
   "metadata": {},
   "outputs": [
    {
     "name": "stdout",
     "output_type": "stream",
     "text": [
      "python golang\n",
      "1\n",
      "1\n"
     ]
    }
   ],
   "source": [
    "linguagens = (\"python\", \"golang\", \"lua\", \"javascript\")\n",
    "print(linguagens[0], linguagens[1])\n",
    "\n",
    "print(linguagens.count(\"lua\")) # conta a quantidade de vezes que existe\n",
    "\n",
    "print(linguagens.index(\"golang\")) # mostra o index do valor\n"
   ]
  },
  {
   "cell_type": "markdown",
   "id": "5657c0d9-e0e2-4032-8a0f-e899b467160e",
   "metadata": {},
   "source": [
    "#### Sets são um conjunto de valores sem indexação, desordenado e sem valores duplicados. "
   ]
  },
  {
   "cell_type": "code",
   "execution_count": 29,
   "id": "e5aa512e-8ad1-41ea-a48b-6e70b4981c7c",
   "metadata": {},
   "outputs": [
    {
     "name": "stdout",
     "output_type": "stream",
     "text": [
      "{'MongoDB', 'Cassandra', 'MariaDB', 'Postgres'}\n",
      "{'MongoDB', 'Cassandra', 'MariaDB', 'Postgres'}\n",
      "{'MongoDB', 'Cassandra', 'MariaDB', 'Postgres'}\n",
      "{'MongoDB', 'Cassandra', 'MariaDB', 'Oracle', 'Postgres', 'Sqlite'}\n"
     ]
    }
   ],
   "source": [
    "dbs = {\"MySQL\", \"MariaDB\", \"Postgres\", \"MongoDB\"}\n",
    "print(bancos)\n",
    "\n",
    "dbs.add(\"Cassandra\") # adiciona um valor no set\n",
    "dbs.add(\"MongoDB\") # já que existe esse valor no set não irá ser colocado.\n",
    "print(bancos)\n",
    "\n",
    "dbs.remove(\"MySQL\") # remove mysql\n",
    "print(bancos)\n",
    "\n",
    "dbs2 = {\"Sqlite\", \"Oracle\"}\n",
    "dbs.update(dbs2) # atualiza com um novo conjunto de sets\n",
    "print(dbs)"
   ]
  },
  {
   "cell_type": "markdown",
   "id": "6d4b2f64-3541-4979-a228-70553e0f5dfb",
   "metadata": {},
   "source": [
    "#### Dicionários são uma implementação de hash tables no python com chave e valor."
   ]
  },
  {
   "cell_type": "code",
   "execution_count": 37,
   "id": "fdfc4a25-37d0-405a-9c22-fc9f9efb64bb",
   "metadata": {},
   "outputs": [
    {
     "name": "stdout",
     "output_type": "stream",
     "text": [
      "Pará\n"
     ]
    }
   ],
   "source": [
    "estados = {\"PA\": \"Pará\", \"SP\": \"São Paulo\", \"MG\": \"Minas Gerais\"}\n",
    "print(estados.get(\"PA\"))\n",
    "\n",
    "\n",
    "print(estados.keys()) # mostra todas as chaves do dicionário\n",
    "print(estado.values()) # mostra to"
   ]
  }
 ],
 "metadata": {
  "kernelspec": {
   "display_name": "Python 3",
   "language": "python",
   "name": "python3"
  },
  "language_info": {
   "codemirror_mode": {
    "name": "ipython",
    "version": 3
   },
   "file_extension": ".py",
   "mimetype": "text/x-python",
   "name": "python",
   "nbconvert_exporter": "python",
   "pygments_lexer": "ipython3",
   "version": "3.8.5"
  }
 },
 "nbformat": 4,
 "nbformat_minor": 5
}
