{
 "cells": [
  {
   "cell_type": "markdown",
   "id": "cebd24e9-4c2e-4f0f-b5a4-c0070ca68c67",
   "metadata": {},
   "source": [
    "### O módulo _collection_ provê uma facilidade e eficiência na hora de manipular e utilizar uma estrutura de dados no python.\n",
    "\n",
    "#### O módúlo é composto por:\n",
    "> Counter  \n",
    "> namedtuple()   \n",
    "> defaultDict    \n",
    "> deque  \n",
    "> ordereddict  \n",
    "> UserDict  \n",
    "> UserList  \n",
    "> UserString  \n",
    "> ChainMap  "
   ]
  },
  {
   "cell_type": "code",
   "execution_count": 15,
   "id": "243fa450-8ae4-496c-9e32-a2f75572e726",
   "metadata": {},
   "outputs": [],
   "source": [
    "from collections import Counter, namedtuple, defaultdict, deque\n",
    "import requests"
   ]
  },
  {
   "cell_type": "code",
   "execution_count": 51,
   "id": "902a1558-7f10-4efd-bf86-3bb25438b65b",
   "metadata": {},
   "outputs": [],
   "source": [
    "url = \"https://raw.githubusercontent.com/Danilovesovic/bands/master/bands.json\"\n",
    "res = requests.get(url)"
   ]
  },
  {
   "cell_type": "code",
   "execution_count": 50,
   "id": "0b0f7d7e-d3bb-4966-9683-a42bbbb97e78",
   "metadata": {},
   "outputs": [
    {
     "name": "stdout",
     "output_type": "stream",
     "text": [
      "Led Zeppelin rock\n",
      "The Beatles rock\n",
      "Pink Floyd rock\n",
      "Queen rock\n",
      "Metallica Heavy Metal\n",
      "AC/DC Heavy Metal\n",
      "The Rolling Stones rock\n",
      "Guns N' Roses hard rock\n",
      "Nirvana grunge\n",
      "The Who  hard rock\n",
      "Black Sabbath hard rock\n"
     ]
    }
   ],
   "source": [
    "bands = res.json()\n",
    "\n",
    "for band in bands:\n",
    "    print(f\"{band['name']} {band['genre']}\")"
   ]
  },
  {
   "cell_type": "code",
   "execution_count": null,
   "id": "496ed204-2ab1-4e76-b702-cb0921ba400b",
   "metadata": {},
   "outputs": [],
   "source": []
  }
 ],
 "metadata": {
  "kernelspec": {
   "display_name": "Python 3",
   "language": "python",
   "name": "python3"
  },
  "language_info": {
   "codemirror_mode": {
    "name": "ipython",
    "version": 3
   },
   "file_extension": ".py",
   "mimetype": "text/x-python",
   "name": "python",
   "nbconvert_exporter": "python",
   "pygments_lexer": "ipython3",
   "version": "3.8.5"
  }
 },
 "nbformat": 4,
 "nbformat_minor": 5
}
