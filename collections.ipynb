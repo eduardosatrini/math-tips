{
 "cells": [
  {
   "cell_type": "markdown",
   "id": "cebd24e9-4c2e-4f0f-b5a4-c0070ca68c67",
   "metadata": {},
   "source": [
    "### O módulo _collection_ do python provê uma eficiência e facilidade a mais na hora de manipular uma estrutura de dados.\n",
    "\n",
    "#### O módúlo é composto por:\n",
    "> Counter  \n",
    "> namedtuple  \n",
    "> defaultdict  \n",
    "> deque\n",
    "> OrderedDict"
   ]
  },
  {
   "cell_type": "markdown",
   "id": "9be1338e-70ea-40cd-ae08-99851a09082e",
   "metadata": {},
   "source": [
    "#### A namedtuple do collections permite que você adicione nomes explícitos a cada elemento da tupla, isso torna o significados mais claros no script em python. "
   ]
  },
  {
   "cell_type": "code",
   "execution_count": 18,
   "id": "ab1c5d44-a7c4-4e46-bfdd-fcb8a3a6e636",
   "metadata": {},
   "outputs": [
    {
     "name": "stdout",
     "output_type": "stream",
     "text": [
      "{'name': 'John', 'salary': 7.0, 'status': 'Senior'}\n",
      "Employee(name='John', salary=7.0, status='Senior')\n"
     ]
    }
   ],
   "source": [
    "from collections import namedtuple\n",
    "\n",
    "Employee = namedtuple(\"Employee\", [\"name\", \"salary\", \"status\"])\n",
    "\n",
    "e1 = Employee(\"John\", 7.000, \"Senior\")\n",
    "print(e1._asdict())\n",
    "print(e1._replace())"
   ]
  }
 ],
 "metadata": {
  "kernelspec": {
   "display_name": "Python 3",
   "language": "python",
   "name": "python3"
  },
  "language_info": {
   "codemirror_mode": {
    "name": "ipython",
    "version": 3
   },
   "file_extension": ".py",
   "mimetype": "text/x-python",
   "name": "python",
   "nbconvert_exporter": "python",
   "pygments_lexer": "ipython3",
   "version": "3.8.5"
  }
 },
 "nbformat": 4,
 "nbformat_minor": 5
}
